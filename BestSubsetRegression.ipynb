{
 "cells": [
  {
   "cell_type": "code",
   "execution_count": 2,
   "metadata": {},
   "outputs": [],
   "source": [
    "import numpy as np\n",
    "from scipy import linalg\n",
    "import os"
   ]
  },
  {
   "cell_type": "code",
   "execution_count": 3,
   "metadata": {},
   "outputs": [],
   "source": [
    "def solve_sym(xtx, xty):\n",
    "        L = linalg.cholesky(xtx)\n",
    "        return linalg.lapack.dpotrs(L, xty)[0] "
   ]
  },
  {
   "cell_type": "code",
   "execution_count": 4,
   "metadata": {},
   "outputs": [],
   "source": [
    "def turnbits_rec(p):\n",
    "    if(p==1):\n",
    "        return np.array([[True, False],[True, True]])\n",
    "    else:\n",
    "        tmp1 = np.c_[ turnbits_rec(p - 1), \n",
    "                     np.array([False]*(2**(p - 1))).reshape((2**(p - 1), 1))]\n",
    "        tmp2 = np.c_[ turnbits_rec(p-1), \n",
    "                     np.array([True]*(2**(p - 1))).reshape((2**(p - 1), 1))]\n",
    "        return np.r_[tmp1, tmp2]"
   ]
  },
  {
   "cell_type": "code",
   "execution_count": 238,
   "metadata": {},
   "outputs": [],
   "source": [
    "class BestSubsetRegress(object):\n",
    "    \"\"\"BestSubsetRegression\n",
    "\n",
    "    A best subset regression based on Cp, AIC and cross validation.\n",
    "    \n",
    "    Attributes:\n",
    "        x: A ndarray data of dependent variable.\n",
    "        y: A ndarray data of independent variable.\n",
    "        intercept: A boolean indicating if intercept is included in data.\n",
    "        isCp: A boolean indicating if Cp is applied.\n",
    "        isAIC: A boolean indicating if AIC is applied.\n",
    "        isCV: A boolean indicating if cross validation is applied.\n",
    "    \"\"\"\n",
    "    def __init__(self, x=0,  y=0, intercept=True, isCp=True, isAIC=True, isCV=True):\n",
    "        self.n, self.p = x.shape\n",
    "        if intercept:\n",
    "            self.x = np.c_[np.ones((self.n, 1)), x]\n",
    "        else:\n",
    "            self.x = x\n",
    "    \n",
    "        self.ind_var = turnbits_rec(self.p)    \n",
    "        self.y = y\n",
    "        self.xtx = np.dot(self.x.T, self.x)\n",
    "        self.xty = np.dot(self.x.T, self.y)\n",
    "        self.b = []\n",
    "        \n",
    "        self.isCp = isCp\n",
    "        self.isAIC = isAIC\n",
    "        self.isCV = isCV\n",
    "        self.intercept = intercept\n",
    "        \n",
    "        \n",
    "    def regress(self):\n",
    "        self.b = [solve_sym(self.xtx[ind][:, ind], self.xty[ind]) \n",
    "                  for ind in self.ind_var]\n",
    "        return self.b\n",
    "    \n",
    "    \n",
    "    def Cp_AIC(self):\n",
    "        self.b = BestSubsetRegress.regress(self)\n",
    "        mse = [np.sum(np.dot(self.xtx[ind][:, ind], b_)*b_) \n",
    "               for ind, b_ in zip(self.ind_var, self.b)]\n",
    "        rss = np.dot(self.y, self.y) - mse\n",
    "        d = np.sum(self.ind_var, axis=1)\n",
    "        self.Cp = rss + 2*d*rss[-1]/(self.n - self.p - 1) \n",
    "        self.AIC = self.n*np.log(rss) + 2*d\n",
    "        \n",
    "        \n",
    "    def cvreg(self):\n",
    "        K = 10\n",
    "        indices = np.array_split(np.random.permutation(np.arange(0, self.n)), K)\n",
    "    \n",
    "        def cvk(ind, index):\n",
    "            txx = self.xtx[ind][:, ind] - np.dot((self.x[index][:, ind]).T, \n",
    "                                                 self.x[index][:, ind])\n",
    "            txy = self.xty[ind] - np.dot((self.x[index][:, ind]).T, \n",
    "                                         self.y[index])\n",
    "            tcoe = solve_sym(txx, txy)\n",
    "            return np.sum(\n",
    "                (self.y[index] - np.dot(self.x[index][:, ind], tcoe))**2)\n",
    "        self.cverr = np.sum(np.array(\n",
    "            [[cvk(ind, index) for index in indices] \n",
    "             for ind in self.ind_var]), axis = 1)/self.n\n",
    "        \n",
    "    \n",
    "    def bestsubsetregress(self):\n",
    "        self.names = np.array(['x' + str(i) for i in range(1, self.p+1)])\n",
    "        \n",
    "        if self.isCp or self.isAIC:\n",
    "            BestSubsetRegress.Cp_AIC(self)\n",
    "            \n",
    "        if self.isCp:\n",
    "            min_id_Cp = np.argmin(self.Cp)\n",
    "            if self.intercept:\n",
    "                sub_names_Cp = np.insert(self.names[self.ind_var[min_id_Cp][1:]], 0, 'mu')\n",
    "            else:\n",
    "                sub_names_Cp = self.names[self.ind_var[min_id_Cp][1:]]\n",
    "            sub_beta_Cp = self.b[min_id_Cp]\n",
    "            print('The best subset and coeffecients under Cp:\\n')\n",
    "            print(dict(zip(sub_names_Cp, sub_beta_Cp)), '\\n')\n",
    "            \n",
    "        if self.isAIC:\n",
    "            min_id_AIC = np.argmin(self.AIC)\n",
    "            if self.intercept:\n",
    "                sub_names_AIC = np.insert(self.names[self.ind_var[min_id_AIC][1:]], 0, 'mu')\n",
    "            else:\n",
    "                sub_names_AIC = self.names[self.ind_var[min_id_AIC][1:]]\n",
    "            sub_beta_AIC = self.b[min_id_AIC]\n",
    "            print('The best subset and coeffecients under AIC:\\n')\n",
    "            print(dict(zip(sub_names_AIC, sub_beta_AIC)), '\\n')\n",
    "            \n",
    "        if self.isCV:   \n",
    "            BestSubsetRegress.cvreg(self)\n",
    "            min_id_CV = np.argmin(self.cverr)\n",
    "            if self.intercept:\n",
    "                sub_names_CV = np.insert(self.names[self.ind_var[min_id_CV][1:]], 0, 'mu')\n",
    "            else:\n",
    "                sub_names_CV = self.names[self.ind_var[min_id_CV][1:]]\n",
    "            sub_beta_CV = self.b[min_id_CV]\n",
    "            print('The best subset and coeffecients under CV:\\n')\n",
    "            print(dict(zip(sub_names_CV, sub_beta_CV)), '\\n')"
   ]
  },
  {
   "cell_type": "code",
   "execution_count": 239,
   "metadata": {},
   "outputs": [],
   "source": [
    "#os.chdir()\n",
    "x = np.loadtxt(\"./DataForRegression/x.txt\", delimiter=\",\")\n",
    "y = np.loadtxt(\"./DataForRegression/y.txt\", delimiter=\",\")"
   ]
  },
  {
   "cell_type": "code",
   "execution_count": 243,
   "metadata": {},
   "outputs": [
    {
     "name": "stdout",
     "output_type": "stream",
     "text": [
      "The best subset and coeffecients under Cp:\n",
      "\n",
      "{'mu': 0.49472926218273405, 'x1': 0.5439978569443544, 'x2': 0.58821270309517, 'x3': -0.01644484649754566, 'x4': 0.10122333372346587, 'x5': 0.714903976347165} \n",
      "\n",
      "The best subset and coeffecients under AIC:\n",
      "\n",
      "{'mu': 0.49472926218273405, 'x1': 0.5439978569443544, 'x2': 0.58821270309517, 'x3': -0.01644484649754566, 'x4': 0.10122333372346587, 'x5': 0.714903976347165} \n",
      "\n",
      "The best subset and coeffecients under CV:\n",
      "\n",
      "{'mu': -0.19492614085151244, 'x1': 0.5138136192016906, 'x2': 0.7460692024294164, 'x3': -0.014866208798658269, 'x5': 0.5788275549673887, 'x8': 0.00395174140641228} \n",
      "\n"
     ]
    }
   ],
   "source": [
    "a = BestSubsetRegress(x, y, True, True)\n",
    "a.bestsubsetregress()"
   ]
  }
 ],
 "metadata": {
  "kernelspec": {
   "display_name": "Python 3",
   "language": "python",
   "name": "python3"
  },
  "language_info": {
   "codemirror_mode": {
    "name": "ipython",
    "version": 3
   },
   "file_extension": ".py",
   "mimetype": "text/x-python",
   "name": "python",
   "nbconvert_exporter": "python",
   "pygments_lexer": "ipython3",
   "version": "3.7.4"
  }
 },
 "nbformat": 4,
 "nbformat_minor": 2
}
